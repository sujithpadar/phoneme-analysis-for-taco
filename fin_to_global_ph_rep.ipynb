{
 "cells": [
  {
   "cell_type": "markdown",
   "metadata": {},
   "source": [
    "- Inputs\n",
    "    - Finnish dictionary\n",
    "    - Global Phones and Ditances.\n",
    "- Outputs\n",
    "    - Saves the unique symbols and chars.\n",
    "    - Saved the symbol map to a dictionary\n"
   ]
  },
  {
   "cell_type": "code",
   "execution_count": 19,
   "metadata": {},
   "outputs": [],
   "source": [
    "import pandas as pd\n",
    "import numpy as np\n",
    "import os\n",
    "import pickle"
   ]
  },
  {
   "cell_type": "code",
   "execution_count": 20,
   "metadata": {},
   "outputs": [],
   "source": [
    "#dictname = sys.argv[1]\n",
    "dictname = 'dict/fi_child_ipa_dict.txt'\n",
    "all_symbols = []\n",
    "with open(dictname,'r') as fi_dict:\n",
    "    for line in fi_dict:\n",
    "        line = line.rstrip('\\n')\n",
    "        symbols = line.split(' ')[1:]\n",
    "        all_symbols.append(symbols)\n",
    "    \n",
    "    \n",
    "all_symbols = [x for item in all_symbols for x in item]\n",
    "unique_symbols = np.unique(all_symbols)\n",
    "\n",
    "all_characters = [c for s in unique_symbols for c in s]\n",
    "unique_chars = np.unique(all_characters)"
   ]
  },
  {
   "cell_type": "code",
   "execution_count": 21,
   "metadata": {},
   "outputs": [],
   "source": [
    "global_phone_distance = np.load('mappings/phone_distances.pickle')\n",
    "\n",
    "global_phones = global_phone_distance['phones']\n",
    "global_phone_list = list(global_phones.values())\n",
    "global_phone_list = np.unique(global_phone_list)"
   ]
  },
  {
   "cell_type": "code",
   "execution_count": 22,
   "metadata": {},
   "outputs": [
    {
     "data": {
      "text/plain": [
       "array(['b', 'bː', 'd', 'dː', 'e', 'ei', 'eo', 'eu', 'ey', 'eæ', 'eø',\n",
       "       'eɑ', 'eː', 'f', 'fː', 'g', 'gː', 'h', 'hː', 'i', 'ie', 'io', 'iu',\n",
       "       'iy', 'iæ', 'iø', 'iɑ', 'iː', 'j', 'k', 'kː', 'l', 'lː', 'm', 'mː',\n",
       "       'n', 'nː', 'o', 'oe', 'oi', 'ou', 'oɑ', 'oː', 'p', 'pː', 'r', 'rː',\n",
       "       's', 'sː', 't', 'tsː', 'tː', 'u', 'ue', 'ui', 'uo', 'uɑ', 'uː',\n",
       "       'v', 'y', 'ye', 'yi', 'yæ', 'yø', 'yː', 'æ', 'æe', 'æi', 'æy',\n",
       "       'æø', 'æː', 'ø', 'øe', 'øi', 'øy', 'øæ', 'øː', 'ŋ', 'ŋː', 'ɑ',\n",
       "       'ɑe', 'ɑi', 'ɑo', 'ɑu', 'ɑː'], dtype='<U3')"
      ]
     },
     "execution_count": 22,
     "metadata": {},
     "output_type": "execute_result"
    }
   ],
   "source": [
    "unique_symbols"
   ]
  },
  {
   "cell_type": "code",
   "execution_count": 23,
   "metadata": {},
   "outputs": [
    {
     "data": {
      "text/plain": [
       "array(['a', 'aɪ', 'aɪ˞', 'aʊ', 'b', 'bː', 'd', 'dʒ', 'dː', 'e', 'ei',\n",
       "       'eo', 'eu', 'ey', 'eæ', 'eø', 'eɑ', 'eɪ', 'eː', 'f', 'fː', 'g',\n",
       "       'h', 'hː', 'i', 'ie', 'io', 'iu', 'iy', 'iæ', 'iø', 'iɑ', 'iː',\n",
       "       'j', 'k', 'kʰ', 'kː', 'l', 'lː', 'l̩', 'm', 'm̩', 'n', 'nː', 'n̩',\n",
       "       'o', 'oe', 'oi', 'ou', 'oɑ', 'oʊ', 'oː', 'p', 'pʰ', 'pː', 'r',\n",
       "       'rː', 's', 'sil', 'sː', 't', 'ts', 'tʃ', 'tʰ', 'tː', 'u', 'ue',\n",
       "       'ui', 'uo', 'uɑ', 'uː', 'v', 'w', 'y', 'ye', 'yi', 'yæ', 'yø',\n",
       "       'yː', 'z', 'æ', 'æe', 'æi', 'æy', 'æø', 'æː', 'ð', 'õ', 'ø', 'øe',\n",
       "       'øi', 'øy', 'øæ', 'øː', 'ŋ', 'ŋː', 'œ', 'ɑ', 'ɑe', 'ɑi', 'ɑo',\n",
       "       'ɑu', 'ɑː', 'ɒ', 'ɔ', 'ɔɪ', 'ɔ˞', 'ɕ', 'ɖ', 'ə', 'əʊ', 'ɚ', 'ɛ',\n",
       "       'ɛə', 'ɛʊ', 'ɜ', 'ɝ', 'ɧ', 'ɪ', 'ɪə', 'ɫ', 'ɭ', 'ɳ', 'ɵ', 'ɹ', 'ɾ',\n",
       "       'ʂ', 'ʃ', 'ʈ', 'ʉ', 'ʊ', 'ʊə', 'ʌ', 'ʏ', 'ʒ', 'θ', 'ẽ'],\n",
       "      dtype='<U3')"
      ]
     },
     "execution_count": 23,
     "metadata": {},
     "output_type": "execute_result"
    }
   ],
   "source": [
    "global_phone_list"
   ]
  },
  {
   "cell_type": "code",
   "execution_count": 24,
   "metadata": {},
   "outputs": [
    {
     "name": "stdout",
     "output_type": "stream",
     "text": [
      "gː\n",
      "mː\n",
      "tsː\n"
     ]
    }
   ],
   "source": [
    "fin_2_global_phone = {}\n",
    "for i in unique_symbols:\n",
    "    if i not in global_phone_list:\n",
    "        print(i)\n",
    "    else:\n",
    "        fin_2_global_phone[i]=i\n",
    "        "
   ]
  },
  {
   "cell_type": "code",
   "execution_count": 27,
   "metadata": {},
   "outputs": [],
   "source": [
    "fin_2_global_phone['gː']='g'\n",
    "fin_2_global_phone['mː']='m'\n",
    "fin_2_global_phone['tsː']='tʰ'\n",
    "fin_2_global_phone[' ']='sil'"
   ]
  },
  {
   "cell_type": "code",
   "execution_count": 28,
   "metadata": {},
   "outputs": [],
   "source": [
    "with open('mappings/fin_2_global_phones_map.pkl', 'wb') as f:\n",
    "    pickle.dump(fin_2_global_phone,f)"
   ]
  },
  {
   "cell_type": "code",
   "execution_count": null,
   "metadata": {},
   "outputs": [],
   "source": []
  }
 ],
 "metadata": {
  "kernelspec": {
   "display_name": "Python 3",
   "language": "python",
   "name": "python3"
  },
  "language_info": {
   "codemirror_mode": {
    "name": "ipython",
    "version": 3
   },
   "file_extension": ".py",
   "mimetype": "text/x-python",
   "name": "python",
   "nbconvert_exporter": "python",
   "pygments_lexer": "ipython3",
   "version": "3.6.6"
  }
 },
 "nbformat": 4,
 "nbformat_minor": 2
}
