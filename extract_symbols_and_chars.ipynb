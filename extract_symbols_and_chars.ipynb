{
 "cells": [
  {
   "cell_type": "code",
   "execution_count": 1,
   "metadata": {},
   "outputs": [],
   "source": [
    "import os\n",
    "import numpy as np\n",
    "import sys"
   ]
  },
  {
   "cell_type": "code",
   "execution_count": 2,
   "metadata": {},
   "outputs": [],
   "source": [
    "dictname = sys.argv[1]\n",
    "dictname = 'fi_child_ipa_dict.txt'\n",
    "all_symbols = []\n",
    "with open(dictname,'r') as fi_dict:\n",
    "    for line in fi_dict:\n",
    "        line = line.rstrip('\\n')\n",
    "        symbols = line.split(' ')[1:]\n",
    "        all_symbols.append(symbols)\n",
    "    \n",
    "    \n",
    "all_symbols = [x for item in all_symbols for x in item]\n",
    "unique_symbols = np.unique(all_symbols)\n",
    "\n",
    "all_characters = [c for s in unique_symbols for c in s]\n",
    "unique_chars = np.unique(all_characters)"
   ]
  },
  {
   "cell_type": "code",
   "execution_count": 7,
   "metadata": {},
   "outputs": [
    {
     "data": {
      "text/plain": [
       "array(['b', 'bː', 'd', 'dː', 'e', 'ei', 'eo', 'eu', 'ey', 'eæ', 'eø',\n",
       "       'eɑ', 'eː', 'f', 'fː', 'g', 'gː', 'h', 'hː', 'i', 'ie', 'io', 'iu',\n",
       "       'iy', 'iæ', 'iø', 'iɑ', 'iː', 'j', 'k', 'kː', 'l', 'lː', 'm', 'mː',\n",
       "       'n', 'nsn', 'nː', 'o', 'oe', 'oi', 'ou', 'oɑ', 'oː', 'p', 'pː',\n",
       "       'r', 'rː', 's', 'sː', 't', 'tsː', 'tː', 'u', 'ue', 'ui', 'uo',\n",
       "       'uɑ', 'uː', 'v', 'y', 'ye', 'yi', 'yæ', 'yø', 'yː', 'æ', 'æe',\n",
       "       'æi', 'æy', 'æø', 'æː', 'ø', 'øe', 'øi', 'øy', 'øæ', 'øː', 'ŋ',\n",
       "       'ŋː', 'ɑ', 'ɑe', 'ɑi', 'ɑo', 'ɑu', 'ɑː'], dtype='<U3')"
      ]
     },
     "execution_count": 7,
     "metadata": {},
     "output_type": "execute_result"
    }
   ],
   "source": [
    "np.sort(unique_symbols)"
   ]
  },
  {
   "cell_type": "code",
   "execution_count": 7,
   "metadata": {},
   "outputs": [],
   "source": [
    "for i in unique_chars:\n",
    "    print(i,end='')\n",
    "\n",
    "op_fname = dictname.split('.')[0]\n",
    "op_symb_name = op_fname + '_uniq_symb.txt'\n",
    "op_char_name = op_fname + '_uniq_chars.txt'\n",
    "with open(op_symb_name,'w') as f:\n",
    "    for i in unique_symbols:\n",
    "        f.write(i)\n",
    "\n",
    "with open(op_char_name,'w') as f:\n",
    "    for i in unique_chars:\n",
    "        f.write(i,end='')"
   ]
  }
 ],
 "metadata": {
  "kernelspec": {
   "display_name": "Python 3",
   "language": "python",
   "name": "python3"
  },
  "language_info": {
   "codemirror_mode": {
    "name": "ipython",
    "version": 3
   },
   "file_extension": ".py",
   "mimetype": "text/x-python",
   "name": "python",
   "nbconvert_exporter": "python",
   "pygments_lexer": "ipython3",
   "version": "3.5.5"
  }
 },
 "nbformat": 4,
 "nbformat_minor": 2
}
