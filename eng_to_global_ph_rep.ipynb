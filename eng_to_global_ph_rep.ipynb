{
 "cells": [
  {
   "cell_type": "markdown",
   "metadata": {},
   "source": [
    "- Inputs\n",
    "    - Finnish dictionary\n",
    "    - Global Phones and Ditances.\n",
    "- Outputs\n",
    "    - Saves the unique symbols and chars.\n",
    "    - Saved the symbol map to a dictionary\n"
   ]
  },
  {
   "cell_type": "code",
   "execution_count": 2,
   "metadata": {},
   "outputs": [],
   "source": [
    "\n",
    "import pandas as pd\n",
    "import numpy as np\n",
    "import os\n",
    "import pickle"
   ]
  },
  {
   "cell_type": "code",
   "execution_count": 3,
   "metadata": {},
   "outputs": [],
   "source": [
    "#dictname = sys.argv[1]\n",
    "all_symbols = []\n",
    "with open('dict/en_uk_dict.txt','r') as fi_dict:\n",
    "    for line in fi_dict:\n",
    "        line = line.rstrip('\\n')\n",
    "        symbols = line.split(' ')[1:]\n",
    "        all_symbols.append(symbols)\n",
    "    \n",
    "    \n",
    "all_symbols = [x for item in all_symbols for x in item]\n",
    "unique_symbols = np.unique(all_symbols)\n",
    "\n",
    "all_characters = [c for s in unique_symbols for c in s]\n",
    "unique_chars = np.unique(all_characters)"
   ]
  },
  {
   "cell_type": "code",
   "execution_count": 5,
   "metadata": {},
   "outputs": [],
   "source": [
    "phone_distance = np.load('mappings/phone_distances.pickle')\n",
    "\n",
    "phones = phone_distance['phones']\n",
    "\n",
    "\n",
    "phone_list = list(phones.values())\n",
    "phone_list = np.unique(phone_list)"
   ]
  },
  {
   "cell_type": "code",
   "execution_count": 6,
   "metadata": {},
   "outputs": [
    {
     "data": {
      "text/plain": [
       "array(['', 'a', 'aɪ', 'aʊ', 'b', 'd', 'dʒ', 'eɪ', 'f', 'g', 'h', 'iː',\n",
       "       'j', 'k', 'kʰ', 'l', 'l̩', 'm', 'm̩', 'n', 'n̩', 'p', 'pʰ', 's',\n",
       "       't', 'tʃ', 'tʰ', 'uː', 'v', 'w', 'z', 'ð', 'õː', 'ŋ', 'ɑː', 'ɒ',\n",
       "       'ɔɪ', 'ɔː', 'ə', 'əʊ', 'ɛ', 'ɛə', 'ɜː', 'ɪ', 'ɪə', 'ɫ', 'ɹ', 'ʃ',\n",
       "       'ʊ', 'ʊə', 'ʌ', 'ʒ', 'θ', 'ẽː'], dtype='<U2')"
      ]
     },
     "execution_count": 6,
     "metadata": {},
     "output_type": "execute_result"
    }
   ],
   "source": [
    "unique_symbols"
   ]
  },
  {
   "cell_type": "code",
   "execution_count": 7,
   "metadata": {},
   "outputs": [
    {
     "data": {
      "text/plain": [
       "array(['a', 'aɪ', 'aɪ˞', 'aʊ', 'b', 'bː', 'd', 'dʒ', 'dː', 'e', 'ei',\n",
       "       'eo', 'eu', 'ey', 'eæ', 'eø', 'eɑ', 'eɪ', 'eː', 'f', 'fː', 'g',\n",
       "       'h', 'hː', 'i', 'ie', 'io', 'iu', 'iy', 'iæ', 'iø', 'iɑ', 'iː',\n",
       "       'j', 'k', 'kʰ', 'kː', 'l', 'lː', 'l̩', 'm', 'm̩', 'n', 'nː', 'n̩',\n",
       "       'o', 'oe', 'oi', 'ou', 'oɑ', 'oʊ', 'oː', 'p', 'pʰ', 'pː', 'r',\n",
       "       'rː', 's', 'sil', 'sː', 't', 'ts', 'tʃ', 'tʰ', 'tː', 'u', 'ue',\n",
       "       'ui', 'uo', 'uɑ', 'uː', 'v', 'w', 'y', 'ye', 'yi', 'yæ', 'yø',\n",
       "       'yː', 'z', 'æ', 'æe', 'æi', 'æy', 'æø', 'æː', 'ð', 'õ', 'ø', 'øe',\n",
       "       'øi', 'øy', 'øæ', 'øː', 'ŋ', 'ŋː', 'œ', 'ɑ', 'ɑe', 'ɑi', 'ɑo',\n",
       "       'ɑu', 'ɑː', 'ɒ', 'ɔ', 'ɔɪ', 'ɔ˞', 'ɕ', 'ɖ', 'ə', 'əʊ', 'ɚ', 'ɛ',\n",
       "       'ɛə', 'ɛʊ', 'ɜ', 'ɝ', 'ɧ', 'ɪ', 'ɪə', 'ɫ', 'ɭ', 'ɳ', 'ɵ', 'ɹ', 'ɾ',\n",
       "       'ʂ', 'ʃ', 'ʈ', 'ʉ', 'ʊ', 'ʊə', 'ʌ', 'ʏ', 'ʒ', 'θ', 'ẽ'],\n",
       "      dtype='<U3')"
      ]
     },
     "execution_count": 7,
     "metadata": {},
     "output_type": "execute_result"
    }
   ],
   "source": [
    "phone_list"
   ]
  },
  {
   "cell_type": "code",
   "execution_count": 13,
   "metadata": {},
   "outputs": [
    {
     "name": "stdout",
     "output_type": "stream",
     "text": [
      "\n",
      "õː\n",
      "ɔː\n",
      "ɜː\n",
      "ẽː\n"
     ]
    }
   ],
   "source": [
    "en_uk_2_ph_dist_ph = {}\n",
    "for i in unique_symbols:\n",
    "    if i not in phone_list:\n",
    "        print(i)\n",
    "    else:\n",
    "        en_uk_2_ph_dist_ph[i]=i\n",
    "        "
   ]
  },
  {
   "cell_type": "code",
   "execution_count": 14,
   "metadata": {},
   "outputs": [],
   "source": [
    "en_uk_2_ph_dist_ph['']='sil'\n",
    "en_uk_2_ph_dist_ph['õː']='õ'\n",
    "en_uk_2_ph_dist_ph['ɔː']='ɔ'\n",
    "en_uk_2_ph_dist_ph['ɜː']='ɜ'\n",
    "en_uk_2_ph_dist_ph['ẽː']='ẽ'\n",
    "en_uk_2_ph_dist_ph['sil']='sil'"
   ]
  },
  {
   "cell_type": "code",
   "execution_count": 15,
   "metadata": {},
   "outputs": [],
   "source": [
    "with open('mappings/en_uk_ph_dist_phones_map.pkl', 'wb') as f:\n",
    "    pickle.dump(en_uk_2_ph_dist_ph,f)"
   ]
  },
  {
   "cell_type": "code",
   "execution_count": null,
   "metadata": {},
   "outputs": [],
   "source": []
  }
 ],
 "metadata": {
  "kernelspec": {
   "display_name": "Python 3",
   "language": "python",
   "name": "python3"
  },
  "language_info": {
   "codemirror_mode": {
    "name": "ipython",
    "version": 3
   },
   "file_extension": ".py",
   "mimetype": "text/x-python",
   "name": "python",
   "nbconvert_exporter": "python",
   "pygments_lexer": "ipython3",
   "version": "3.7.1"
  }
 },
 "nbformat": 4,
 "nbformat_minor": 2
}
